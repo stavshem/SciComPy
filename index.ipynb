{
 "cells": [
  {
   "cell_type": "markdown",
   "metadata": {},
   "source": [
    "# Scientific Computing with Python\n",
    "## Yoav Ram\n",
    "## [scicompy.yoavram.com](http://scicompy.yoavram.com)"
   ]
  },
  {
   "cell_type": "markdown",
   "metadata": {},
   "source": [
    "## Tutorials\n",
    "\n",
    "- [Python](notebooks/python.ipynb)\n",
    "- [NumPy](notebooks/numpy.ipynb)\n",
    "- [Matplotlib](notebooks/matplotlib.ipynb)"
   ]
  },
  {
   "cell_type": "markdown",
   "metadata": {},
   "source": [
    "## Lectures\n",
    "\n",
    "1. [Pandas & Seaborn](notebooks/pandas-seaborn.ipynb)\n",
    "1. [Statistical Inference](notebooks/statistics.ipynb)\n",
    "1. [Bayesian Inference](notebooks/bayesian.ipynb)\n",
    "1. [Generalized Linear Models 1: linear model](notebooks/linear-model.ipynb)\n",
    "1. [Generalized Linear Models 2: logistic model](notebooks/logistic-model.ipynb)\n",
    "1. [Population Genetics](notebooks/population-genetics.ipynb)\n",
    "1. [Population Dynamics 1: Growth](notebooks/population-growth.ipynb)\n",
    "1. [Population Dynamics 2: Interaction](notebooks/lotka-volterra.ipynb)\n",
    "1. [Population Dynamics 3: Stochastic](notebooks/gillespie.ipynb)\n",
    "1. [Approximate Bayesian Computation](notebooks/ABC.ipynb)\n",
    "1. TBD: [Feed Forward Neural networks](notebooks/FFN.ipynb) | [Softmax Model](notebooks/softmax-model.ipynb) | \n",
    "1. TBD: [Unsupervised Learning](notebooks/unsupervised.ipynb)"
   ]
  },
  {
   "cell_type": "markdown",
   "metadata": {},
   "source": [
    "## Jupyter help\n",
    "\n",
    "- Use autocompletion by pressing `Tab`. \n",
    " - In the middle of a word it will try to finish the variable name.\n",
    " - Just after a dot (`.`) it will try to bring up a menu of methods and attributes; the variable before the dot must already be defined.\n",
    "- Use documentation by pressing `Shift+Tab`; this is especially useful inside a function parentheses as it will show the function arguments, but it can be used anywhere. Again, variables must already be defined."
   ]
  },
  {
   "cell_type": "markdown",
   "metadata": {},
   "source": [
    "## Terminal\n",
    "\n",
    "To open a terminal inside Jupyter, choose `File->New...->Terminal` in the top menu."
   ]
  },
  {
   "cell_type": "markdown",
   "metadata": {},
   "source": [
    "## Update git\n",
    "\n",
    "- Open terminal\n",
    "- Change directory to the repository (`library` on Azure)\n",
    "- Update to latest version by running `git pull`\n",
    "- Note: if any files were changed you would have to discard the changes using `git checkout -- <filename>` or [stash](https://www.git-scm.com/docs/git-stash) them "
   ]
  }
 ],
 "metadata": {
  "kernelspec": {
   "display_name": "Python 3",
   "language": "python",
   "name": "python3"
  },
  "language_info": {
   "codemirror_mode": {
    "name": "ipython",
    "version": 3
   },
   "file_extension": ".py",
   "mimetype": "text/x-python",
   "name": "python",
   "nbconvert_exporter": "python",
   "pygments_lexer": "ipython3",
   "version": "3.7.3"
  }
 },
 "nbformat": 4,
 "nbformat_minor": 4
}
